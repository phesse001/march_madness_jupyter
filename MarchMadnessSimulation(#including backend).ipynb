{
 "cells": [
  {
   "cell_type": "code",
   "execution_count": null,
   "metadata": {},
   "outputs": [],
   "source": [
    "#pragma cling add_include_path(\"/home/jovyan/include_files/\")\n",
    "#include \"Game.cpp\"\n",
    "#include \"Simulator.cpp\"\n",
    "#include \"Team.cpp\""
   ]
  },
  {
   "cell_type": "markdown",
   "metadata": {},
   "source": [
    "# Parameters\n",
    "## Home Field Advantage\n",
    "Home field advandtage is used to account for the fact that the home team is generally at an advantage over the away team. For example, if Duke beat Gonzaga by 2 points and Gonzaga was the home team, a home field advantage of 4 would cause Gonzaga to take the win by 2 points.\n",
    "## Scale Large Margins\n",
    "Scale large margins is used to account for large score margins negatively affecting rankings. When a highly ranked team defeats a low ranked team, the higher ranked team will usually put in back up players and play conservatively, so even if they win, their rating will almost always go down, and the opposite is true for the lower ranked team. To compensate for this, games with win margins >= 21 will be scaled down to have less effect on the rankings.\n"
   ]
  },
  {
   "cell_type": "code",
   "execution_count": null,
   "metadata": {},
   "outputs": [],
   "source": [
    "#include \"xwidgets/xslider.hpp\"\n",
    "xw::slider<int> slider;\n",
    "slider.min = 0;\n",
    "slider.max = 15;\n",
    "slider.value = 0;\n",
    "slider.description = \"Home Field Advantage\";\n",
    "slider.display();\n",
    "\n",
    "#include \"xwidgets/xcheckbox.hpp\"\n",
    "xw::checkbox checkbox;\n",
    "checkbox.value = false;\n",
    "checkbox.description = \"Scale Large Margins?\";\n",
    "checkbox.indent = false;\n",
    "checkbox.display();"
   ]
  },
  {
   "cell_type": "code",
   "execution_count": null,
   "metadata": {},
   "outputs": [],
   "source": [
    "int home_field_advantage = slider.value;\n",
    "bool apply_scaling = checkbox.value;"
   ]
  },
  {
   "cell_type": "markdown",
   "metadata": {},
   "source": [
    "## Results"
   ]
  },
  {
   "cell_type": "code",
   "execution_count": null,
   "metadata": {},
   "outputs": [],
   "source": [
    "run(home_field_advantage, apply_scaling);"
   ]
  },
  {
   "cell_type": "code",
   "execution_count": null,
   "metadata": {},
   "outputs": [],
   "source": [
    "constructCorrectVector(\"/home/jovyan/Data/Correct.txt\");\n",
    "createLabels();\n",
    "double sse = constructAxes();\n",
    "double mse = sse/64;\n",
    "double se = pow(mse, .5);"
   ]
  },
  {
   "cell_type": "code",
   "execution_count": null,
   "metadata": {},
   "outputs": [],
   "source": [
    "#include \"xplot/xfigure.hpp\"\n",
    "#include \"xplot/xmarks.hpp\"\n",
    "#include \"xplot/xaxes.hpp\"\n",
    "#include \"xplot/xtooltip.hpp\""
   ]
  },
  {
   "cell_type": "code",
   "execution_count": null,
   "metadata": {},
   "outputs": [],
   "source": [
    "xpl::linear_scale sx, sy;\n",
    "xpl::lines line(sx, sy);\n",
    "line.x = y_axis;\n",
    "line.y = y_axis;\n",
    "auto ax_x = xpl::axis::initialize(sx)\n",
    "    .label(\"predicted\")\n",
    "    .finalize();\n",
    "auto ax_y = xpl::axis::initialize(sy)\n",
    "    .label(\"actual\")\n",
    "    .orientation(\"vertical\")\n",
    "    .side(\"left\")\n",
    "    .finalize();"
   ]
  },
  {
   "cell_type": "code",
   "execution_count": null,
   "metadata": {},
   "outputs": [],
   "source": [
    "xpl::tooltip def_tt,test;\n",
    "def_tt.fields = std::vector<xtl::xoptional<std::string>>{\"x\",\"y\"};\n",
    "def_tt.labels = std::vector<xtl::xoptional<std::string>>{\"Predicted Ranking\",\"Actual Ranking\"};"
   ]
  },
  {
   "cell_type": "code",
   "execution_count": null,
   "metadata": {},
   "outputs": [],
   "source": [
    "auto scatter1 = xpl::scatter::initialize(sx, sy)\n",
    "   .x(x_axis)\n",
    "   .y(y_axis)\n",
    "   .unhovered_style(::xeus::xjson::parse(R\"({\"opacity\": \"0.5\"})\"))\n",
    "   .tooltip(def_tt)\n",
    "   .finalize();\n",
    "scatter1.names = labels;"
   ]
  },
  {
   "cell_type": "code",
   "execution_count": null,
   "metadata": {},
   "outputs": [],
   "source": [
    "auto fig1 = xpl::figure::initialize()\n",
    "    .padding_x(0.1)\n",
    "    .padding_y(0.025)\n",
    "    .finalize();\n",
    "fig1.add_mark(scatter1);\n",
    "fig1.add_axis(ax_x);\n",
    "fig1.add_axis(ax_y);\n",
    "fig1.add_mark(line);"
   ]
  },
  {
   "cell_type": "markdown",
   "metadata": {},
   "source": [
    "# Actual vs. Predicted\n",
    "This plot displays the top 64 teams with any particular teams x value representing their predicted ranking and y value representing their actual rankikng. A team(point) close to the line represents a good/accurate prediction while teams far away from the line represent inaccurate predictions. You can hover over a point on the plot and it will tell you the actual ranking and the ranking the model predicted."
   ]
  },
  {
   "cell_type": "code",
   "execution_count": null,
   "metadata": {},
   "outputs": [],
   "source": [
    "fig1"
   ]
  },
  {
   "cell_type": "markdown",
   "metadata": {},
   "source": [
    "# Metrics"
   ]
  },
  {
   "cell_type": "markdown",
   "metadata": {},
   "source": [
    "## Sum of Squared Errors\n",
    "The method used to predict the ranking of the teams uses a least squares linear regression. For any team, we want to express the margin of victory as a linear function of the teams who played that game (Massey, 1997). Each equation will have an error term, which is the actual value - the predicted value. The best model will minimize the sum of squared error terms. This is a metric we can use to determine how well our predicted points fit the curve of the actual points. The lower the SSE, the better our model does. This is the equation:\n",
    "\n",
    "$$SSE = \\sum \\limits _{i=1} ^n(y_i-\\hat{y_i})^2$$\n",
    "\n",
    "Where y is the actual ranking and $\\hat{y}$ is the predicted ranking."
   ]
  },
  {
   "cell_type": "code",
   "execution_count": null,
   "metadata": {},
   "outputs": [],
   "source": [
    "cout << \"SSE = \" << sse << \"\\n\" << \"With Home Field Advantage: \" << home_field_advantage\n",
    "<< \"\\n\" << \"And Margin of Victory: \" << std::boolalpha << apply_scaling << endl;"
   ]
  },
  {
   "cell_type": "markdown",
   "metadata": {},
   "source": [
    "## Mean Squared Error\n",
    "A more interpretable metric for a regression is the mean squared error. It is essentially the same as SSE, but gives us an average squared error for any point. The benefit to this is that the metric can go *down* as the number of points goes up. This is better because with SSE as you add points, the number will always go up, even if you add points that fit the model well. This is the equation for Mean Squared Errors:\n",
    "\n",
    "$$MSE = \\frac{1}{n} \\sum \\limits _{i=1} ^n(y_i-\\hat{y_i})^2$$"
   ]
  },
  {
   "cell_type": "code",
   "execution_count": null,
   "metadata": {},
   "outputs": [],
   "source": [
    "cout << \"MSE = \" << mse << \"\\n\" << \"With Home Field Advantage: \" << home_field_advantage\n",
    "<< \"\\n\" << \"And Margin of Victory: \" << std::boolalpha << apply_scaling << endl;"
   ]
  },
  {
   "cell_type": "markdown",
   "metadata": {},
   "source": [
    "## Standard Error\n",
    "Perhaps the most readable metric for a regression is the standard error. There are many different derivations of this equations, but the most simple one is: \n",
    "\n",
    "$$\\sigma = \\sqrt{\\frac{\\sum \\limits _{i=1} ^n(y_i-\\hat{y_i})^2}{n}}$$\n",
    "\n",
    "This gives us the *standard deviation of the errors of predections*"
   ]
  },
  {
   "cell_type": "code",
   "execution_count": null,
   "metadata": {},
   "outputs": [],
   "source": [
    "cout << \"SE = \" << se << \"\\n\" << \"With Home Field Advantage: \" << home_field_advantage\n",
    "<< \"\\n\" << \"And Margin of Victory: \" << std::boolalpha << apply_scaling << endl;"
   ]
  }
 ],
 "metadata": {
  "kernelspec": {
   "display_name": "C++14",
   "language": "C++14",
   "name": "xcpp14"
  },
  "language_info": {
   "codemirror_mode": "text/x-c++src",
   "file_extension": ".cpp",
   "mimetype": "text/x-c++src",
   "name": "c++",
   "version": "14"
  }
 },
 "nbformat": 4,
 "nbformat_minor": 4
}
