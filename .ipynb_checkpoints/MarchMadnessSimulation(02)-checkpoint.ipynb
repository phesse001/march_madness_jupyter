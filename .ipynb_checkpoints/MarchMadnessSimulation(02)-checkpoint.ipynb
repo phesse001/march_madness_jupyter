{
 "cells": [
  {
   "cell_type": "code",
   "execution_count": 1,
   "metadata": {},
   "outputs": [],
   "source": [
    "#pragma cling add_include_path(\"/home/patrick/march_madness_jupyter/include_files/SimLib/\")\n",
    "#pragma cling add_include_path(\"/home/patrick/march_madness_jupyter/include_files/eigen/\")\n",
    "\n",
    "#include \"xtensor-blas/xlinalg.hpp\"\n",
    "\n",
    "#include <iostream>\n",
    "#include <fstream>\n",
    "#include <map>\n",
    "#include \"Eigen/Core\"\n",
    "#include \"Eigen/Dense\"\n",
    "#include <algorithm>\n",
    "#include <iterator>\n",
    "#include \"Simulator.h\"\n",
    "#include \"Game.h\"\n",
    "#include \"Team.h\"\n",
    "\n",
    "#include <chrono>\n",
    "using namespace std::chrono;"
   ]
  },
  {
   "cell_type": "code",
   "execution_count": 2,
   "metadata": {},
   "outputs": [],
   "source": [
    "using namespace std;\n",
    "using namespace Eigen;\n",
    "\n",
    "vector<string> labels;\n",
    "vector<Team*> teamCollection;\n",
    "vector<Team> resultVector;\n",
    "vector<int> x_axis;\n",
    "vector<int> y_axis;\n",
    "map<int, Team*> teamMap;\n",
    "Matrix<double, Dynamic, Dynamic> gameMatrix;\n",
    "VectorXd scores;\n",
    "VectorXd solutionVector;\n",
    "vector<int> correct;\n",
    "int numGamesPlayed;\n",
    "int numTeams;\n",
    "const int HIGH_MARGIN = 21;\n",
    "const double HIGH_MARGIN_SCALE = .8;\n",
    "double pSum;"
   ]
  },
  {
   "cell_type": "code",
   "execution_count": 3,
   "metadata": {},
   "outputs": [],
   "source": [
    "Team::Team(string name, int id)\n",
    "{\n",
    "    this->id = id;\n",
    "    this->name = name;\n",
    "}"
   ]
  },
  {
   "cell_type": "code",
   "execution_count": 4,
   "metadata": {},
   "outputs": [],
   "source": [
    "void Team::addGame(Game* newGame)\n",
    "{\n",
    "    this->gameCollection.push_back(newGame);\n",
    "}"
   ]
  },
  {
   "cell_type": "code",
   "execution_count": 5,
   "metadata": {},
   "outputs": [],
   "source": [
    "std::vector<Game*> Team::getAllGames()\n",
    "{\n",
    "    return this->gameCollection;\n",
    "}"
   ]
  },
  {
   "cell_type": "code",
   "execution_count": 6,
   "metadata": {},
   "outputs": [],
   "source": [
    "int Team::getId()\n",
    "{\n",
    "    return this->id;\n",
    "}"
   ]
  },
  {
   "cell_type": "code",
   "execution_count": 7,
   "metadata": {},
   "outputs": [],
   "source": [
    "string Team::getName()\n",
    "{\n",
    "    return this->name;\n",
    "}"
   ]
  },
  {
   "cell_type": "code",
   "execution_count": 8,
   "metadata": {},
   "outputs": [],
   "source": [
    "int Team::getNumGamesPlayed()\n",
    "{\n",
    "    return this->Team::gameCollection.size();\n",
    "}"
   ]
  },
  {
   "cell_type": "code",
   "execution_count": 9,
   "metadata": {},
   "outputs": [],
   "source": [
    "string Team::toString()\n",
    "{\n",
    "    return name;\n",
    "}"
   ]
  },
  {
   "cell_type": "code",
   "execution_count": 10,
   "metadata": {},
   "outputs": [],
   "source": [
    "void Team::addRank(double rank)\n",
    "{\n",
    "    this->rank = rank;\n",
    "}"
   ]
  },
  {
   "cell_type": "code",
   "execution_count": 11,
   "metadata": {},
   "outputs": [],
   "source": [
    "double Team::getRank() const \n",
    "{\n",
    "    return this->rank;\n",
    "}"
   ]
  },
  {
   "cell_type": "code",
   "execution_count": 12,
   "metadata": {},
   "outputs": [],
   "source": [
    "void printVector(std::vector<int> vect)\n",
    "{\n",
    "    for(int i = 0; i < vect.size(); i++)\n",
    "{\n",
    "    cout << vect.at(i) << '\\n';\n",
    "}\n",
    "}"
   ]
  },
  {
   "cell_type": "code",
   "execution_count": 13,
   "metadata": {},
   "outputs": [],
   "source": [
    "void printVector(std::vector<Team> vect)\n",
    "{\n",
    "    for(int i = vect.size()-1; i >= vect.size()-64; i--)\n",
    "{\n",
    "    cout << vect.at(i).getId() << '\\n';\n",
    "}\n",
    "}"
   ]
  },
  {
   "cell_type": "code",
   "execution_count": 14,
   "metadata": {},
   "outputs": [],
   "source": [
    "#define LESS_THAN operator< //workaround for bug in cling\n",
    "bool LESS_THAN(const Team &team1, const Team &team2)\n",
    "{\n",
    "    return team1.getRank() < team2.getRank();\n",
    "}\n",
    "#undef LESS_THAN"
   ]
  },
  {
   "cell_type": "code",
   "execution_count": 15,
   "metadata": {},
   "outputs": [],
   "source": [
    "Game::Game(int day, Team* team1, Team* team2, int score1, int score2)\n",
    "{\n",
    "    this->day = day;\n",
    "    this->teams.push_back(team1);\n",
    "    this->teams.push_back(team2);\n",
    "    this->score1 = score1;\n",
    "    this->score2 = score2;\n",
    "}"
   ]
  },
  {
   "cell_type": "code",
   "execution_count": 16,
   "metadata": {},
   "outputs": [],
   "source": [
    "void createTeams(string teamData) {\n",
    "    string id, name;\n",
    "    ifstream teams (teamData);\n",
    "    if(teams.is_open()){\n",
    "        while (getline(teams, id, ',')){\n",
    "            getline(teams, name, '\\n');\n",
    "            int idNum = stoi(id);\n",
    "            Team* tempTeam = new Team(name, idNum);\n",
    "            teamCollection.push_back(tempTeam);\n",
    "            teamMap.insert(pair<int, Team*>(idNum, tempTeam));\n",
    "            numTeams++;\n",
    "        }\n",
    "        teams.close();\n",
    "    }\n",
    "    else cout << \"Unable to open file\";\n",
    "}"
   ]
  },
  {
   "cell_type": "code",
   "execution_count": 17,
   "metadata": {},
   "outputs": [],
   "source": [
    "void loadGames(string gameData, int home_field_advantage, bool apply_scaling) {\n",
    "    gameMatrix = Eigen::Matrix<double, Eigen::Dynamic, Eigen::Dynamic>::Zero(numTeams , numTeams);\n",
    "    scores = Eigen::VectorXd::Zero(numTeams);\n",
    "\n",
    "    string days, date, team1, field1, score1, team2, field2, score2;\n",
    "    fstream games(gameData);\n",
    "    if(games.is_open()){\n",
    "        while(getline(games, days, ',')){\n",
    "            getline(games, date, ',');\n",
    "            getline(games, team1, ',');\n",
    "            getline(games, field1, ',');\n",
    "            getline(games, score1, ',');\n",
    "            getline(games, team2, ',');\n",
    "            getline(games, field2, ',');\n",
    "            getline(games, score2, ' ');\n",
    "            getline(games, score2, ' ');\n",
    "\n",
    "            int daysInt = stoi(days);\n",
    "            int team_1_Id = stoi(team1);\n",
    "            int team_2_Id = stoi(team2);\n",
    "            int team_1_score = stoi(score1);\n",
    "            int team_2_score = stoi(score2);\n",
    "            Game tempGame(daysInt, teamMap.at(team_1_Id), teamMap.at(team_2_Id), team_1_score, team_2_score);\n",
    "            teamMap.at(team_1_Id)->addGame(&tempGame);\n",
    "            teamMap.at(team_2_Id)->addGame(&tempGame);\n",
    "            numGamesPlayed++;\n",
    "\n",
    "            /*E\n",
    "             * Edit game score based on flag.\n",
    "             * flag = 1: 4 is added to home team score\n",
    "             */\n",
    "            if(stoi(field1) == 1){\n",
    "                team_1_score += home_field_advantage;\n",
    "            }\n",
    "            if(stoi(field2) == 1){\n",
    "                team_2_score += home_field_advantage;\n",
    "            }\n",
    "\n",
    "            populateMatrix(team_1_Id, team_2_Id, team_1_score, team_2_score, apply_scaling);\n",
    "            for(int i = 0; i < numTeams; i++){\n",
    "                gameMatrix.row(numTeams - 1).col(i) << 1;\n",
    "            }\n",
    "            scores.row(numTeams - 1) << 0;\n",
    "        }\n",
    "    }\n",
    "    else cout << \"Unable to open file\";\n",
    "}"
   ]
  },
  {
   "cell_type": "code",
   "execution_count": 18,
   "metadata": {},
   "outputs": [],
   "source": [
    "void populateMatrix(int team1Index, int team2Index, int team_1_score, int team_2_score, bool apply_scaling) {\n",
    "    gameMatrix.row(team1Index - 1 ).col(team2Index - 1) << -1;\n",
    "    gameMatrix.row(team2Index -1 ).col(team1Index -1) <<  -1;\n",
    "    gameMatrix.row(team1Index -1 ).col(team1Index -1) <<  teamMap.at(team1Index)->getNumGamesPlayed();\n",
    "    gameMatrix.row(team2Index -1 ).col(team2Index -1) <<  teamMap.at(team2Index)->getNumGamesPlayed();\n",
    "    //implementation of scaling if predicted margin is greater then 21\n",
    "    if(abs(team_1_score - team_2_score) < HIGH_MARGIN || apply_scaling == false) {\n",
    "        if (team_1_score > team_2_score) {\n",
    "            int temp = scores.row(team1Index - 1).value();\n",
    "            scores.row(team1Index - 1) << temp + (team_1_score - team_2_score);\n",
    "            temp = scores.row(team2Index - 1).value();\n",
    "            scores.row(team2Index - 1) << temp + (team_2_score - team_1_score);\n",
    "        } else {\n",
    "            int temp = scores.row(team2Index - 1).value();\n",
    "            scores.row(team2Index - 1) << temp + (team_2_score - team_1_score);\n",
    "            temp = scores.row(team1Index - 1).value();\n",
    "            scores.row(team1Index - 1) << temp + (team_1_score - team_2_score);\n",
    "        }\n",
    "    }\n",
    "    else{\n",
    "\n",
    "        if(team_1_score > team_2_score)\n",
    "        {\n",
    "            int pre_margin = team_1_score - team_2_score;\n",
    "            int post_margin = HIGH_MARGIN + (1/HIGH_MARGIN_SCALE) * (pow((pre_margin - 20),HIGH_MARGIN_SCALE)-1);\n",
    "            int temp = scores.row(team1Index - 1).value();\n",
    "            scores.row(team1Index - 1) << temp + post_margin;\n",
    "            temp = scores.row(team2Index - 1).value();\n",
    "            scores.row(team2Index - 1) << temp - post_margin;\n",
    "        } else{\n",
    "            int pre_margin = team_2_score - team_1_score;\n",
    "            int post_margin = HIGH_MARGIN + (1/HIGH_MARGIN_SCALE) * (pow((pre_margin - 20),HIGH_MARGIN_SCALE)-1);\n",
    "            int temp = scores.row(team2Index - 1).value();\n",
    "            scores.row(team2Index - 1) << temp + post_margin;\n",
    "            temp = scores.row(team1Index - 1).value();\n",
    "            scores.row(team1Index - 1) << temp - post_margin;\n",
    "        }\n",
    "\n",
    "    }\n",
    "}"
   ]
  },
  {
   "cell_type": "code",
   "execution_count": 19,
   "metadata": {},
   "outputs": [],
   "source": [
    "void constructCorrectVector(string filename)\n",
    "{\n",
    "string id;\n",
    "fstream rankings(filename);\n",
    "    if(rankings.is_open()){\n",
    "        while(getline(rankings,id,'\\n')){\n",
    "            int id_num = stoi(id);\n",
    "            correct.push_back(id_num);\n",
    "        }\n",
    "    }\n",
    "}"
   ]
  },
  {
   "cell_type": "code",
   "execution_count": 20,
   "metadata": {},
   "outputs": [],
   "source": [
    "void createLabels()\n",
    "{\n",
    "for(int i = resultVector.size()-1; i >= 288; i--)\n",
    "{\n",
    "    labels.push_back(resultVector.at(i).getName());\n",
    "}\n",
    "}"
   ]
  },
  {
   "cell_type": "code",
   "execution_count": 21,
   "metadata": {},
   "outputs": [],
   "source": [
    "void constructAxes()\n",
    "{\n",
    "int count = 0;\n",
    "double sum = 0;\n",
    "for(int i = 1; i < 65; i++)\n",
    "{\n",
    "    x_axis.push_back(i);\n",
    "}\n",
    "for(int i = resultVector.size()-1; i >= 0; i--)\n",
    "{\n",
    "    int current_value = resultVector.at(i).getId();\n",
    "    for(int j = 1; j<65; j++)\n",
    "    {\n",
    "        if(current_value == correct.at(j-1))\n",
    "        {\n",
    "            y_axis.push_back(j);\n",
    "            sum += pow(j - x_axis.at(count),2);\n",
    "            count += 1;\n",
    "        }\n",
    "    }\n",
    "}\n",
    "    pSum = sum;\n",
    "}"
   ]
  },
  {
   "cell_type": "code",
   "execution_count": 22,
   "metadata": {},
   "outputs": [],
   "source": [
    "double sse()\n",
    "{\n",
    "    return pSum;\n",
    "}"
   ]
  },
  {
   "cell_type": "code",
   "execution_count": 23,
   "metadata": {},
   "outputs": [],
   "source": [
    "double mse()\n",
    "{\n",
    "    return pSum/64.0;\n",
    "}"
   ]
  },
  {
   "cell_type": "code",
   "execution_count": 24,
   "metadata": {},
   "outputs": [],
   "source": [
    "double se()\n",
    "{\n",
    "    return pow((pSum/64.0), .5);\n",
    "}"
   ]
  },
  {
   "cell_type": "code",
   "execution_count": 25,
   "metadata": {},
   "outputs": [],
   "source": [
    "void run(int home_field_advantage, bool apply_scaling){\n",
    "    createTeams(string(\"/home/patrick/march_madness_jupyter/Data/NCAABasketballTeams.txt\"));\n",
    "    loadGames(string(\"/home/patrick/march_madness_jupyter/Data/NCAABasketballGames.txt\"), home_field_advantage, apply_scaling);\n",
    "    solutionVector = gameMatrix.lu().solve(scores);\n",
    "\n",
    "    map<int, Team*>::iterator itr;\n",
    "    for(itr = teamMap.begin(); itr != teamMap.end(); ++itr){\n",
    "        itr->second->addRank(solutionVector.row(itr->second->getId() -1).value());\n",
    "        resultVector.push_back(*(itr->second));\n",
    "    }\n",
    "\n",
    "     sort(resultVector.begin(), resultVector.end());\n",
    "     vector<Team>::iterator itr2;\n",
    "     for(itr2 = resultVector.end() - 1; itr2 != resultVector.begin() - 1 ; --itr2){\n",
    "        cout << itr2->getId() << itr2->getName() << endl;\n",
    "     }\n",
    "}"
   ]
  },
  {
   "cell_type": "markdown",
   "metadata": {},
   "source": [
    "# Parameters\n",
    "## Home Field Advantage\n",
    "Home field advandtage is used to account for the fact that the home team is generally at an advantage over the away team. For example, if Duke beat Gonzaga by 2 points and Gonzaga was the home team, a home field advantage of 4 would cause Gonzaga to take the win by 2 points.\n",
    "## Scale Large Margins\n",
    "Scale large margins is used to account for large score margins negatively affecting rankings. When a highly ranked team defeats a low ranked team, the higher ranked team will usually put in back up players and play conservatively, so even if they win, their rating will almost always go down, and the opposite is true for the lower ranked team. To compensate for this, games with win margins >= 21 will be scaled down to have less effect on the rankings.\n"
   ]
  },
  {
   "cell_type": "code",
   "execution_count": 26,
   "metadata": {},
   "outputs": [
    {
     "data": {
      "application/vnd.jupyter.widget-view+json": {
       "model_id": "13999c9157d3424c879c2e3ad1c03c20",
       "version_major": 2,
       "version_minor": 0
      },
      "text/plain": [
       "A Jupyter widget"
      ]
     },
     "metadata": {},
     "output_type": "display_data"
    },
    {
     "data": {
      "application/vnd.jupyter.widget-view+json": {
       "model_id": "fa8133fc99fa4d9c98a74caed994008c",
       "version_major": 2,
       "version_minor": 0
      },
      "text/plain": [
       "A Jupyter widget"
      ]
     },
     "metadata": {},
     "output_type": "display_data"
    }
   ],
   "source": [
    "#include \"xwidgets/xslider.hpp\"\n",
    "xw::slider<int> slider;\n",
    "slider.min = 0;\n",
    "slider.max = 15;\n",
    "slider.value = 0;\n",
    "slider.description = \"Home Field Advantage\";\n",
    "slider.display();\n",
    "\n",
    "#include \"xwidgets/xcheckbox.hpp\"\n",
    "xw::checkbox checkbox;\n",
    "checkbox.value = false;\n",
    "checkbox.description = \"Scale Large Margins?\";\n",
    "checkbox.indent = false;\n",
    "checkbox.display();"
   ]
  },
  {
   "cell_type": "markdown",
   "metadata": {},
   "source": [
    "## Results"
   ]
  },
  {
   "cell_type": "code",
   "execution_count": 27,
   "metadata": {},
   "outputs": [
    {
     "name": "stdout",
     "output_type": "stream",
     "text": [
      "104 Gonzaga\n",
      "75 Duke\n",
      "329 Virginia\n",
      "205 North Carolina\n",
      "295 Texas Tech\n",
      "169 Michigan St\n",
      "114 Houston\n",
      "137 Kentucky\n",
      "289 Tennessee\n",
      "330 Virginia Tech\n",
      "17 Auburn\n",
      "236 Purdue\n",
      "168 Michigan\n",
      "353 Youngstown St\n",
      "195 Nevada\n",
      "32 Buffalo\n",
      "348 Wofford\n",
      "92 Florida St\n",
      "153 LSU\n",
      "198 New Mexico St\n",
      "149 Louisville\n",
      "320 Utah St\n",
      "326 VCU\n",
      "184 Murray St\n",
      "192 NC State\n",
      "172 Mississippi St\n",
      "127 Iowa St\n",
      "133 Kansas\n",
      "143 Lipscomb\n",
      "346 Wisconsin\n",
      "21 Belmont\n",
      "47 Cincinnati\n",
      "222 Oregon\n",
      "158 Marquette\n",
      "308 UCF\n",
      "49 Clemson\n",
      "279 St Mary's CA\n",
      "160 Maryland\n",
      "327 Vermont\n",
      "328 Villanova\n",
      "246 S Dakota St\n",
      "292 Texas\n",
      "285 Syracuse\n",
      "89 Florida\n",
      "337 Washington\n",
      "67 Dayton\n",
      "134 Kansas St\n",
      "95 Furman\n",
      "112 Hofstra\n",
      "164 Memphis\n",
      "218 Oklahoma\n",
      "94 Fresno St\n",
      "126 Iowa\n",
      "305 UC Irvine\n",
      "297 Toledo\n",
      "142 Liberty\n",
      "217 Ohio St\n",
      "253 San Francisco\n",
      "171 Mississippi\n",
      "20 Baylor\n",
      "194 Nebraska\n",
      "188 N Kentucky\n",
      "60 Creighton\n",
      "287 TCU\n",
      "123 Indiana\n",
      "14 Arkansas\n",
      "54 Colorado\n",
      "352 Yale\n",
      "11 Arizona St\n",
      "177 Montana\n",
      "66 Davidson\n",
      "226 Penn St\n",
      "83 ETSU\n",
      "209 Northeastern\n",
      "349 Wright St\n",
      "288 Temple\n",
      "166 Miami FL\n",
      "321 Utah Valley\n",
      "343 Wichita St\n",
      "10 Arizona\n",
      "261 Seton Hall\n",
      "316 USC\n",
      "52 Col Charleston\n",
      "152 Loyola-Chicago\n",
      "106 Grand Canyon\n",
      "131 Jacksonville St\n",
      "313 UNC Greensboro\n",
      "4 Alabama\n",
      "229 Pittsburgh\n",
      "53 Colgate\n",
      "34 BYU\n",
      "170 Minnesota\n",
      "223 Oregon St\n",
      "269 South Florida\n",
      "97 Ga Southern\n",
      "251 San Diego\n",
      "3 Akron\n",
      "351 Xavier\n",
      "220 Old Dominion\n",
      "278 St Louis\n",
      "273 St Bonaventure\n",
      "33 Butler\n",
      "309 UCLA\n",
      "57 Connecticut\n",
      "31 Bucknell\n",
      "235 Providence\n",
      "212 Northwestern\n",
      "252 San Diego St\n",
      "276 St John's\n",
      "18 Austin Peay\n",
      "27 Bowling Green\n",
      "73 Drake\n",
      "214 Notre Dame\n",
      "267 South Carolina\n",
      "283 Stony Brook\n",
      "281 Stanford\n",
      "238 Radford\n",
      "173 Missouri\n",
      "19 Ball St\n",
      "24 Boise St\n",
      "103 Georgia Tech\n",
      "265 SMU\n",
      "35 C Michigan\n",
      "293 Texas A&M\n",
      "319 Utah\n",
      "294 Texas St\n",
      "100 Georgetown\n",
      "109 Harvard\n",
      "225 Penn\n",
      "270 Southern Miss\n",
      "347 WKU\n",
      "102 Georgia St\n",
      "244 Rutgers\n",
      "1 Abilene Chr\n",
      "25 Boston College\n",
      "148 Louisiana Tech\n",
      "150 Loy Marymount\n",
      "301 Tulsa\n",
      "239 Rhode Island\n",
      "120 Illinois\n",
      "310 ULM\n",
      "71 DePaul\n",
      "307 UC Santa Barbara\n",
      "250 Samford\n",
      "247 S Illinois\n",
      "29 Brown\n",
      "187 N Illinois\n",
      "99 George Mason\n",
      "315 UNLV\n",
      "185 N Colorado\n",
      "303 UAB\n",
      "141 Lehigh\n",
      "208 North Texas\n",
      "136 Kent\n",
      "318 UT San Antonio\n",
      "110 Hawaii\n",
      "98 Gardner Webb\n",
      "76 Duquesne\n",
      "43 Charleston So\n",
      "51 Coastal Car\n",
      "108 Hartford\n",
      "302 TX Southern\n",
      "101 Georgia\n",
      "219 Oklahoma St\n",
      "260 Seattle\n",
      "193 NE Omaha\n",
      "249 Sam Houston St\n",
      "339 Weber St\n",
      "340 West Virginia\n",
      "28 Bradley\n",
      "242 Rider\n",
      "159 Marshall\n",
      "233 Presbyterian\n",
      "125 Iona\n",
      "227 Pepperdine\n",
      "128 IUPUI\n",
      "85 F Dickinson\n",
      "8 American Univ\n",
      "107 Hampton\n",
      "232 Prairie View\n",
      "215 Oakland\n",
      "323 UTRGV\n",
      "202 NJIT\n",
      "341 WI Green_Bay\n",
      "167 Miami OH\n",
      "345 Winthrop\n",
      "175 Missouri St\n",
      "55 Colorado St\n",
      "317 UT Arlington\n",
      "87 FL Atlantic\n",
      "228 PFW\n",
      "119 IL Chicago\n",
      "186 N Dakota St\n",
      "147 Louisiana\n",
      "39 Campbell\n",
      "277 St Joseph's PA\n",
      "241 Richmond\n",
      "140 Lamar\n",
      "211 Northern Iowa\n",
      "237 Quinnipiac\n",
      "325 Vanderbilt\n",
      "197 New Mexico\n",
      "36 Cal Baptist\n",
      "79 E Michigan\n",
      "311 UMBC\n",
      "248 Sacred Heart\n",
      "207 North Florida\n",
      "62 CS Fullerton\n",
      "121 Illinois St\n",
      "203 Norfolk St\n",
      "144 LIU Brooklyn\n",
      "344 William & Mary\n",
      "161 Massachusetts\n",
      "80 E Washington\n",
      "234 Princeton\n",
      "263 Siena\n",
      "113 Holy Cross\n",
      "105 Grambling\n",
      "275 St Francis PA\n",
      "165 Mercer\n",
      "26 Boston Univ\n",
      "178 Montana St\n",
      "336 Wake Forest\n",
      "124 Indiana St\n",
      "268 South Dakota\n",
      "243 Robert Morris\n",
      "88 FL Gulf Coast\n",
      "56 Columbia\n",
      "12 Ark Little Rock\n",
      "266 South Alabama\n",
      "91 Florida Intl\n",
      "93 Fordham\n",
      "111 High Point\n",
      "216 Ohio\n",
      "65 Dartmouth\n",
      "154 MA_Lowell\n",
      "255 Santa Clara\n",
      "61 CS Bakersfield\n",
      "324 Valparaiso\n",
      "9 Appalachian St\n",
      "145 Long Beach St\n",
      "224 Pacific\n",
      "64 CS Sacramento\n",
      "258 SE Louisiana\n",
      "84 Evansville\n",
      "138 La Salle\n",
      "16 Army\n",
      "157 Marist\n",
      "274 St Francis NY\n",
      "40 Canisius\n",
      "272 Southern Utah\n",
      "338 Washington St\n",
      "191 NC Central\n",
      "63 CS Northridge\n",
      "231 Portland St\n",
      "2 Air Force\n",
      "199 New Orleans\n",
      "284 SUNY Albany\n",
      "240 Rice\n",
      "304 UC Davis\n",
      "74 Drexel\n",
      "59 Cornell\n",
      "86 Fairfield\n",
      "72 Detroit\n",
      "68 Delaware\n",
      "299 Troy\n",
      "190 NC A&T\n",
      "174 Missouri KC\n",
      "183 MTSU\n",
      "286 TAM C. Christi\n",
      "50 Cleveland St\n",
      "115 Houston Bap\n",
      "206 North Dakota\n",
      "298 Towson\n",
      "146 Longwood\n",
      "130 Jacksonville\n",
      "15 ArkansasSt\n",
      "179 Morehead St\n",
      "314 UNC Wilmington\n",
      "151 Loyola MD\n",
      "200 Niagara\n",
      "342 WI Milwaukee\n",
      "176 Monmouth NJ\n",
      "210 Northern Arizona\n",
      "132 James Madison\n",
      "78 E Kentucky\n",
      "96 G Washington\n",
      "38 California\n",
      "334 W Michigan\n",
      "189 Navy\n",
      "335 Wagner\n",
      "116 Howard\n",
      "280 St Peter's\n",
      "322 UTEP\n",
      "22 Bethune-Cookman\n",
      "262 SF Austin\n",
      "81 East Carolina\n",
      "139 Lafayette\n",
      "156 Manhattan\n",
      "333 W Illinois\n",
      "221 Oral Roberts\n",
      "201 Nicholls St\n",
      "129 Jackson St\n",
      "44 Charlotte\n",
      "48 Citadel\n",
      "13 Ark Pine Bluff\n",
      "45 Chattanooga\n",
      "41 Cent Arkansas\n",
      "118 Idaho St\n",
      "6 Alabama St\n",
      "300 Tulane\n",
      "296 TN Martin\n",
      "42 Central Conn\n",
      "82 Elon\n",
      "77 E Illinois\n",
      "259 SE Missouri St\n",
      "204 North Alabama\n",
      "70 Denver\n",
      "332 W Carolina\n",
      "290 Tennessee St\n",
      "182 Mt St Mary's\n",
      "30 Bryant\n",
      "90 Florida A&M\n",
      "180 Morgan St\n",
      "306 UC Riverside\n",
      "23 Binghamton\n",
      "350 Wyoming\n",
      "162 McNeese St\n",
      "331 VMI\n",
      "271 Southern Univ\n",
      "230 Portland\n",
      "245 S Carolina St\n",
      "264 SIUE\n",
      "155 Maine\n",
      "291 Tennessee Tech\n",
      "37 Cal Poly\n",
      "282 Stetson\n",
      "257 SC Upstate\n",
      "213 Northwestern LA\n",
      "5 Alabama A&M\n",
      "58 Coppin St\n",
      "117 Idaho\n",
      "196 New Hampshire\n",
      "256 Savannah St\n",
      "135 Kennesaw\n",
      "7 Alcorn St\n",
      "122 Incarnate Word\n",
      "181 MS Valley St\n",
      "254 San Jose St\n",
      "312 UNC Asheville\n",
      "163 MD E Shore\n",
      "69 Delaware St\n",
      "46 Chicago St\n",
      "1020903\n"
     ]
    }
   ],
   "source": [
    "int home_field_advantage = slider.value;\n",
    "bool apply_scaling = checkbox.value;\n",
    "auto start = high_resolution_clock::now();\n",
    "run(home_field_advantage, apply_scaling);\n",
    "auto stop = high_resolution_clock::now();\n",
    "auto duration = duration_cast<microseconds>(stop - start);\n",
    "std::cout << duration.count() << std::endl;"
   ]
  },
  {
   "cell_type": "code",
   "execution_count": 28,
   "metadata": {},
   "outputs": [],
   "source": [
    "#include \"xplot/xfigure.hpp\"\n",
    "#include \"xplot/xmarks.hpp\"\n",
    "#include \"xplot/xaxes.hpp\""
   ]
  },
  {
   "cell_type": "code",
   "execution_count": 29,
   "metadata": {},
   "outputs": [],
   "source": [
    "constructCorrectVector(\"/home/patrick/march_madness_jupyter/Data/Correct.txt\");\n",
    "createLabels();\n",
    "constructAxes();\n",
    "double SSE = sse();\n",
    "double MSE = mse();\n",
    "double SE = se();"
   ]
  },
  {
   "cell_type": "markdown",
   "metadata": {},
   "source": [
    "$$SSE = \\sum \\limits _{i=1} ^m(Y_i-\\hat{Y_i})^2$$"
   ]
  },
  {
   "cell_type": "code",
   "execution_count": null,
   "metadata": {},
   "outputs": [],
   "source": []
  },
  {
   "cell_type": "code",
   "execution_count": 30,
   "metadata": {},
   "outputs": [],
   "source": [
    "xpl::linear_scale sx, sy;\n",
    "xpl::lines line(sx, sy);\n",
    "line.x = y_axis;\n",
    "line.y = y_axis;\n",
    "auto ax_x = xpl::axis::initialize(sx)\n",
    "    .label(\"predicted\")\n",
    "    .finalize();\n",
    "auto ax_y = xpl::axis::initialize(sy)\n",
    "    .label(\"actual\")\n",
    "    .orientation(\"vertical\")\n",
    "    .side(\"left\")\n",
    "    .finalize();"
   ]
  },
  {
   "cell_type": "code",
   "execution_count": 31,
   "metadata": {},
   "outputs": [],
   "source": [
    "#include \"xplot/xtooltip.hpp\"\n",
    "xpl::tooltip def_tt,test;\n",
    "def_tt.fields = std::vector<xtl::xoptional<std::string>>{\"x\",\"y\"};\n",
    "def_tt.labels = std::vector<xtl::xoptional<std::string>>{\"Predicted Ranking\",\"Actual Ranking\"};"
   ]
  },
  {
   "cell_type": "code",
   "execution_count": 32,
   "metadata": {},
   "outputs": [],
   "source": [
    "auto scatter1 = xpl::scatter::initialize(sx, sy)\n",
    "   .x(x_axis)\n",
    "   .y(y_axis)\n",
    "   .unhovered_style(::xeus::xjson::parse(R\"({\"opacity\": \"0.5\"})\"))\n",
    "   .tooltip(def_tt)\n",
    "   .finalize();\n",
    "scatter1.names = labels;"
   ]
  },
  {
   "cell_type": "code",
   "execution_count": 33,
   "metadata": {},
   "outputs": [],
   "source": [
    "auto fig1 = xpl::figure::initialize()\n",
    "    .padding_x(0.1)\n",
    "    .padding_y(0.025)\n",
    "    .finalize();\n",
    "fig1.add_mark(scatter1);\n",
    "fig1.add_axis(ax_x);\n",
    "fig1.add_axis(ax_y);\n",
    "fig1.add_mark(line);"
   ]
  },
  {
   "cell_type": "markdown",
   "metadata": {},
   "source": [
    "# Actual vs. Predicted\n",
    "This plot displays the top 64 teams with any particular teams x value representing their predicted ranking and y value representing their actual rankikng. A team(point) close to the line represents a good/accurate prediction while teams far away from the line represent inaccurate predictions. You can hover over a point on the plot and it will tell you the actual ranking and the ranking the model predicted."
   ]
  },
  {
   "cell_type": "code",
   "execution_count": 34,
   "metadata": {},
   "outputs": [
    {
     "data": {
      "application/vnd.jupyter.widget-view+json": {
       "model_id": "6e2ba4305f82430fa2456de493d35bf8",
       "version_major": 2,
       "version_minor": 0
      },
      "text/plain": [
       "A Jupyter widget"
      ]
     },
     "execution_count": 34,
     "metadata": {},
     "output_type": "execute_result"
    }
   ],
   "source": [
    "fig1"
   ]
  },
  {
   "cell_type": "markdown",
   "metadata": {},
   "source": []
  },
  {
   "cell_type": "markdown",
   "metadata": {},
   "source": [
    "## Sum of Squared Errors\n",
    "The method used to predict the ranking of the teams uses a least squares linear regression. For any team, we want to express the margin of victory as a linear function of the teams who played that game (Massey, 1997). Each equation will have an error term, which is the actual value - the predicted value. The best model will minimize the sum of squared error terms. This is a metric we can use to determine how well our predicted points fit the curve of the actual points. The lower the SSE, the better our model does. This is the equation:\n",
    "\n",
    "$$SSE = \\sum \\limits _{i=1} ^n(y_i-\\hat{y_i})^2$$\n",
    "\n",
    "Where y is the actual ranking and $\\hat{y}$ is the predicted ranking."
   ]
  },
  {
   "cell_type": "code",
   "execution_count": 35,
   "metadata": {},
   "outputs": [
    {
     "name": "stdout",
     "output_type": "stream",
     "text": [
      "SSE = 17658\n",
      "With Home Field Advantage: 0\n",
      "And Margin of Victory: false\n"
     ]
    }
   ],
   "source": [
    "cout << \"SSE = \" << SSE << \"\\n\" << \"With Home Field Advantage: \" << home_field_advantage\n",
    "<< \"\\n\" << \"And Margin of Victory: \" << std::boolalpha << apply_scaling << endl;"
   ]
  },
  {
   "cell_type": "markdown",
   "metadata": {},
   "source": [
    "## Mean Squared Error\n",
    "A more interpretable metric for a regression is the mean squared error. It is essentially the same as SSE, but gives us an average squared error for any point. The benefit to this is that the metric can go *down* as the number of points goes up. This is better because with SSE as you add points, the number will always go up, even if you add points that fit the model well. This is the equation for Mean Squared Errors:\n",
    "\n",
    "$$MSE = \\frac{1}{n} \\sum \\limits _{i=1} ^n(y_i-\\hat{y_i})^2$$"
   ]
  },
  {
   "cell_type": "code",
   "execution_count": 36,
   "metadata": {},
   "outputs": [
    {
     "name": "stdout",
     "output_type": "stream",
     "text": [
      "MSE = 275.906\n",
      "With Home Field Advantage: 0\n",
      "And Margin of Victory: false\n"
     ]
    }
   ],
   "source": [
    "cout << \"MSE = \" << MSE << \"\\n\" << \"With Home Field Advantage: \" << home_field_advantage\n",
    "<< \"\\n\" << \"And Margin of Victory: \" << std::boolalpha << apply_scaling << endl;"
   ]
  },
  {
   "cell_type": "markdown",
   "metadata": {},
   "source": [
    "## Standard Error\n",
    "Perhaps the most readable metric for a regression is the standard error. There are many different derivations of this equations, but the most simple one is: \n",
    "\n",
    "$$\\sigma = \\sqrt{\\frac{\\sum \\limits _{i=1} ^n(y_i-\\hat{y_i})^2}{n}}$$\n",
    "\n",
    "This gives us the *standard deviation of the errors of predections*"
   ]
  },
  {
   "cell_type": "code",
   "execution_count": 37,
   "metadata": {},
   "outputs": [
    {
     "name": "stdout",
     "output_type": "stream",
     "text": [
      "SE = 16.6104\n",
      "With Home Field Advantage: 0\n",
      "And Margin of Victory: false\n"
     ]
    }
   ],
   "source": [
    "cout << \"SE = \" << SE << \"\\n\" << \"With Home Field Advantage: \" << home_field_advantage\n",
    "<< \"\\n\" << \"And Margin of Victory: \" << std::boolalpha << apply_scaling << endl;"
   ]
  }
 ],
 "metadata": {
  "kernelspec": {
   "display_name": "C++14",
   "language": "C++14",
   "name": "xcpp14"
  },
  "language_info": {
   "codemirror_mode": "text/x-c++src",
   "file_extension": ".cpp",
   "mimetype": "text/x-c++src",
   "name": "c++",
   "version": "14"
  }
 },
 "nbformat": 4,
 "nbformat_minor": 4
}
